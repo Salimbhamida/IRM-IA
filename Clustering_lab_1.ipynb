{
  "cells": [
    {
      "cell_type": "markdown",
      "metadata": {},
      "source": [
        "The goal of this Lab is to implement the clustering technique Kmeans as a Python class.\n",
        "\n",
        "To do it, follow the steps below.\n",
        "\n",
        "Meanwhile, we will test Kmeans implementation using a training population of employees.\n",
        "\n",
        "<b>Todo :</b> Replace <font color=red>#?</font> by an appropriate Python code"
      ]
    },
    {
      "cell_type": "markdown",
      "metadata": {
        "id": "RZE688fxoVxA"
      },
      "source": [
        "Step 1. Define a training dataset of employees"
      ]
    },
    {
      "cell_type": "code",
      "execution_count": 1,
      "metadata": {
        "id": "ZNqbYnVqqCv-"
      },
      "outputs": [],
      "source": [
        "# Import numpy library\n",
        "import numpy as np"
      ]
    },
    {
      "cell_type": "code",
      "execution_count": 2,
      "metadata": {
        "id": "y9LorviaoTrM"
      },
      "outputs": [
        {
          "data": {
            "text/plain": [
              "array([[  30.  , 1300.5 ],\n",
              "       [  48.  , 2500.7 ],\n",
              "       [  25.  , 1100.5 ],\n",
              "       [  45.  , 1900.75]])"
            ]
          },
          "execution_count": 2,
          "metadata": {},
          "output_type": "execute_result"
        }
      ],
      "source": [
        "# Declare a numpy matrix denoted X\n",
        "# It represents a population of employees\n",
        "# The matrix rows are employees\n",
        "# The matrix columns are their properties : age and salary\n",
        "# The data of employees : (30,1300.5) , (48, 2500.7) , (25, 1100.5) , (45, 1900.75)\n",
        "X=np.array([[30,1300.5],[48, 2500.7] , [25, 1100.5] , [45, 1900.75]])\n",
        "X"
      ]
    },
    {
      "cell_type": "code",
      "execution_count": 3,
      "metadata": {},
      "outputs": [
        {
          "data": {
            "text/plain": [
              "(4, 2)"
            ]
          },
          "execution_count": 3,
          "metadata": {},
          "output_type": "execute_result"
        }
      ],
      "source": [
        "# Shape of the matrix X : number of rows x number of columns\n",
        "X.shape"
      ]
    },
    {
      "cell_type": "markdown",
      "metadata": {
        "id": "2BjjG_LfqGY2"
      },
      "source": [
        "Step 2. Define Kmeans hyperparameters"
      ]
    },
    {
      "cell_type": "code",
      "execution_count": 4,
      "metadata": {
        "id": "47kFHzcXrHww"
      },
      "outputs": [],
      "source": [
        "# Kmeans hyperparameters are defined as attributes\n",
        "# The most important hyperparameter of Kmeans is the number of clusters.\n",
        "# It is manually assigned.\n",
        "# It denoted k \n",
        "# It has 2 as default value\n",
        "# Complete the code\n",
        "class Kmeans :\n",
        "  def __init__(self, k=2):\n",
        "    self.k=k"
      ]
    },
    {
      "cell_type": "code",
      "execution_count": 5,
      "metadata": {},
      "outputs": [
        {
          "data": {
            "text/plain": [
              "3"
            ]
          },
          "execution_count": 5,
          "metadata": {},
          "output_type": "execute_result"
        }
      ],
      "source": [
        "# Run test\n",
        "km=Kmeans(k=3)\n",
        "km.k"
      ]
    },
    {
      "cell_type": "markdown",
      "metadata": {
        "id": "0IyaPzv1rUqf"
      },
      "source": [
        "Step 3. Define Kmeans model parameters"
      ]
    },
    {
      "cell_type": "code",
      "execution_count": 6,
      "metadata": {
        "id": "FXtqXpA9rXF7"
      },
      "outputs": [],
      "source": [
        "# Kmeans parameters are defined as attributes\n",
        "# Kmeans has one parameter : It is the cluster centers\n",
        "# It is denoted centers\n",
        "# It is assigned None value before learning process\n",
        "# Complete the code :\n",
        "class Kmeans :\n",
        "  def __init__(self, k=2):\n",
        "    self.k=k\n",
        "    self.centers=None"
      ]
    },
    {
      "cell_type": "code",
      "execution_count": 7,
      "metadata": {},
      "outputs": [],
      "source": [
        "# Run test\n",
        "km=Kmeans(k=2)\n",
        "km.centers"
      ]
    },
    {
      "cell_type": "markdown",
      "metadata": {
        "id": "1hz772-Cr9DW"
      },
      "source": [
        "Step 4. Define the learning process"
      ]
    },
    {
      "cell_type": "markdown",
      "metadata": {},
      "source": [
        "Some functions are useful and required to implement the learning process :\n",
        "- <font color='red'>random.choice</font> : allows to draw one random elements from a given list\n",
        "- <font color='red'>random.sample</font> : allows to randomly draw a sample of elements from a given list\n",
        "- <font color='red'>range</font> : allows to generate a sequence of integers\n",
        "\n",
        "Some matrix properties are useful :\n",
        "- <font color='red'>matrix.shape</font> : represents the shape of matrix (num_rows x num_columns) \n",
        "- <font color='red'>matrix.shape[0]</font> : number of rows of matrix\n",
        "- <font color='red'>matrix.shape[1]</font> : number of columns of matrix"
      ]
    },
    {
      "cell_type": "markdown",
      "metadata": {},
      "source": [
        "<u>Examples :</u>"
      ]
    },
    {
      "cell_type": "code",
      "execution_count": 8,
      "metadata": {},
      "outputs": [
        {
          "data": {
            "text/plain": [
              "2"
            ]
          },
          "execution_count": 8,
          "metadata": {},
          "output_type": "execute_result"
        }
      ],
      "source": [
        "import random\n",
        "# choice function allows to draw one sample from a list\n",
        "random.choice([0,1,2,3])"
      ]
    },
    {
      "cell_type": "code",
      "execution_count": 9,
      "metadata": {},
      "outputs": [
        {
          "data": {
            "text/plain": [
              "[1, 0]"
            ]
          },
          "execution_count": 9,
          "metadata": {},
          "output_type": "execute_result"
        }
      ],
      "source": [
        "k=2\n",
        "# sample function allows to draw k samples from a list\n",
        "random.sample([0,1,2,3],k)"
      ]
    },
    {
      "cell_type": "code",
      "execution_count": 10,
      "metadata": {},
      "outputs": [
        {
          "data": {
            "text/plain": [
              "[0, 1, 2]"
            ]
          },
          "execution_count": 10,
          "metadata": {},
          "output_type": "execute_result"
        }
      ],
      "source": [
        "# range allows to generate a sequence of integers\n",
        "list(range(0,3,1))"
      ]
    },
    {
      "cell_type": "code",
      "execution_count": 11,
      "metadata": {},
      "outputs": [
        {
          "data": {
            "text/plain": [
              "[0, 1, 2]"
            ]
          },
          "execution_count": 11,
          "metadata": {},
          "output_type": "execute_result"
        }
      ],
      "source": [
        "indices_all_rows=list(range(3))\n",
        "indices_all_rows"
      ]
    },
    {
      "cell_type": "code",
      "execution_count": 12,
      "metadata": {},
      "outputs": [
        {
          "data": {
            "text/plain": [
              "[1, 0]"
            ]
          },
          "execution_count": 12,
          "metadata": {},
          "output_type": "execute_result"
        }
      ],
      "source": [
        "# draw k integers from the list of indices\n",
        "random.sample(indices_all_rows, k)"
      ]
    },
    {
      "cell_type": "code",
      "execution_count": 13,
      "metadata": {},
      "outputs": [
        {
          "data": {
            "text/plain": [
              "array([[  30.  , 1300.5 ],\n",
              "       [  45.  , 1900.75]])"
            ]
          },
          "execution_count": 13,
          "metadata": {},
          "output_type": "execute_result"
        }
      ],
      "source": [
        "# extract k rows from X matrix based on their indices [0, 3]\n",
        "X[[0, 3],:]"
      ]
    },
    {
      "cell_type": "code",
      "execution_count": 14,
      "metadata": {},
      "outputs": [
        {
          "data": {
            "text/plain": [
              "array([[  30.  , 1300.5 ],\n",
              "       [  48.  , 2500.7 ],\n",
              "       [  25.  , 1100.5 ],\n",
              "       [  45.  , 1900.75]])"
            ]
          },
          "execution_count": 14,
          "metadata": {},
          "output_type": "execute_result"
        }
      ],
      "source": [
        "X"
      ]
    },
    {
      "cell_type": "code",
      "execution_count": 15,
      "metadata": {},
      "outputs": [
        {
          "data": {
            "text/plain": [
              "4"
            ]
          },
          "execution_count": 15,
          "metadata": {},
          "output_type": "execute_result"
        }
      ],
      "source": [
        "# number of rows in X\n",
        "X.shape[0]"
      ]
    },
    {
      "cell_type": "markdown",
      "metadata": {},
      "source": [
        "<u>Learning process :</u>"
      ]
    },
    {
      "cell_type": "code",
      "execution_count": 20,
      "metadata": {
        "id": "T8OCO6afsAga"
      },
      "outputs": [],
      "source": [
        "# The learning process of Kmeans is implemented in fit() function\n",
        "# Define fit() function that :\n",
        "# - takes as input training data matrix X\n",
        "# - iteratively estimates the cluster centers\n",
        "# - returns the class object (self)\n",
        "class Kmeans :\n",
        "  def __init__(self, k=2, max_iter=100):\n",
        "    self.k=k\n",
        "    self.max_iter=max_iter\n",
        "    self.centers=None\n",
        "  def fit(self, X):\n",
        "    # Randomly initialize K cluster centers as data points\n",
        "    indices_all_rows=list(range(X.shape[0]))\n",
        "    indices_drawn=random.sample(indices_all_rows, self.k)\n",
        "    self.centers=X[indices_drawn,:]\n",
        "    for _ in range(self.max_iter):\n",
        "            # Step 1: Determine the clusters - find the nearest cluster center for each data point\n",
        "            clusters = []\n",
        "            for x in X:\n",
        "                cluster_id = np.argmin([np.linalg.norm(x - center) for center in self.centers])\n",
        "                clusters.append(cluster_id)\n",
        "\n",
        "            # Step 2: Update cluster centers - a cluster center is the mean of data points that belongs to the cluster\n",
        "            new_centers = np.array([np.mean(X[np.array(clusters) == i], axis=0) for i in range(self.k)])\n",
        "\n",
        "            # Check for convergence\n",
        "            if np.all(self.centers == new_centers):\n",
        "                break\n",
        "\n",
        "            self.centers = new_centers\n",
        "\n",
        "    return self"
      ]
    },
    {
      "cell_type": "code",
      "execution_count": 17,
      "metadata": {},
      "outputs": [
        {
          "data": {
            "text/plain": [
              "array([[  25. , 1100.5],\n",
              "       [  30. , 1300.5]])"
            ]
          },
          "execution_count": 17,
          "metadata": {},
          "output_type": "execute_result"
        }
      ],
      "source": [
        "# Run test\n",
        "km=Kmeans(k=2)\n",
        "km.fit(X)\n",
        "km.centers"
      ]
    },
    {
      "cell_type": "markdown",
      "metadata": {
        "id": "x2SouTeNsBCO"
      },
      "source": [
        "Step 5. Define the prediction process"
      ]
    },
    {
      "cell_type": "code",
      "execution_count": 21,
      "metadata": {
        "id": "YrTE2xEJsC2P"
      },
      "outputs": [],
      "source": [
        "# The prediction process of Kmeans is implemented in predict() function\n",
        "# Define predict() function that :\n",
        "# - takes as input a employee vector x\n",
        "# - predicts the label of cluster (an integer) to which x belongs, ie it can be {0,1,..,k-1}\n",
        "# - returns the predicted label\n",
        "class Kmeans :\n",
        "  def __init__(self, k=2, max_iter=100):\n",
        "    self.k = k\n",
        "    self.max_iter = max_iter\n",
        "    self.centers = None\n",
        "\n",
        "  def fit(self, X):\n",
        "    # Randomly initialize K cluster centers as data points\n",
        "    indices_all_rows = list(range(X.shape[0]))\n",
        "    indices_drawn = random.sample(indices_all_rows, self.k)\n",
        "    self.centers = X[indices_drawn, :]\n",
        "    for _ in range(self.max_iter):\n",
        "          # Step 1: Determine the clusters - find the nearest cluster center for each data point\n",
        "          clusters = []\n",
        "          for x in X:\n",
        "                cluster_id = np.argmin([np.linalg.norm(x - center)\n",
        "                                       for center in self.centers])\n",
        "                clusters.append(cluster_id)\n",
        "\n",
        "            # Step 2: Update cluster centers - a cluster center is the mean of data points that belongs to the cluster\n",
        "          new_centers = np.array(\n",
        "          [np.mean(X[np.array(clusters) == i], axis=0) for i in range(self.k)])\n",
        "\n",
        "            # Check for convergence\n",
        "          if np.all(self.centers == new_centers):\n",
        "                break\n",
        "\n",
        "          self.centers = new_centers\n",
        "\n",
        "    return self\n",
        "\n",
        "  def predict(self, x):\n",
        "    # Assign the input vector x to the cluster with the nearest center\n",
        "    cluster_id = np.argmin([np.linalg.norm(x - center)\n",
        "                           for center in self.centers])\n",
        "    return cluster_id\n"
      ]
    },
    {
      "cell_type": "code",
      "execution_count": 38,
      "metadata": {},
      "outputs": [
        {
          "data": {
            "text/plain": [
              "1"
            ]
          },
          "execution_count": 38,
          "metadata": {},
          "output_type": "execute_result"
        }
      ],
      "source": [
        "# Run test\n",
        "# predict which cluster a new employe x with age=29 and salary=1400 belongs to\n",
        "x=np.array([29,1400])\n",
        "km=Kmeans(k=2)\n",
        "km.fit(X)\n",
        "label=km.predict(x)\n",
        "label"
      ]
    }
  ],
  "metadata": {
    "colab": {
      "provenance": []
    },
    "kernelspec": {
      "display_name": "Python 3",
      "name": "python3"
    },
    "language_info": {
      "codemirror_mode": {
        "name": "ipython",
        "version": 3
      },
      "file_extension": ".py",
      "mimetype": "text/x-python",
      "name": "python",
      "nbconvert_exporter": "python",
      "pygments_lexer": "ipython3",
      "version": "3.8.3"
    }
  },
  "nbformat": 4,
  "nbformat_minor": 0
}
